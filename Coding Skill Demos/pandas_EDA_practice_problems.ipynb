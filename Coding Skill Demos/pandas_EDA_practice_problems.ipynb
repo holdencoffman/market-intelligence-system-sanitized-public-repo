{
 "cells": [
  {
   "cell_type": "code",
   "execution_count": null,
   "id": "b8809c7c",
   "metadata": {},
   "outputs": [
    {
     "name": "stdout",
     "output_type": "stream",
     "text": [
      "   CustomerID     Region SignupChannel  AnnualRevenue ServicePlan  Churned  \\\n",
      "0        1001      South         Sales       64599.26    Standard        0   \n",
      "1        1002       West         Email       91967.61     Premium        0   \n",
      "2        1003  Northeast         Sales       93792.17       Basic        0   \n",
      "3        1004      South           Web       63569.46    Standard        0   \n",
      "4        1005      South         Email      140973.24       Basic        0   \n",
      "5        1006       West           Web       99214.99    Standard        0   \n",
      "6        1007  Northeast         Email       49260.90       Basic        0   \n",
      "7        1008  Northeast         Email      104696.61       Basic        0   \n",
      "8        1009      South      Referral       55759.55       Basic        0   \n",
      "9        1010    Midwest           Web      108612.54    Standard        1   \n",
      "\n",
      "   TenureMonths  \n",
      "0            19  \n",
      "1            32  \n",
      "2            30  \n",
      "3            29  \n",
      "4            45  \n",
      "5            29  \n",
      "6            30  \n",
      "7            16  \n",
      "8            40  \n",
      "9            19  \n"
     ]
    }
   ],
   "source": [
    "import pandas as pd\n",
    "\n",
    "## Basic exploration\n",
    "\n",
    "#1. Load the dataset into a pandas DataFrame\n",
    "\n",
    "df = pd.read_csv(r\"Fake_Customer_Dataset.csv\")\n",
    "\n",
    "#2. View the first 10 rows\n",
    "\n",
    "print(df.head(10))"
   ]
  },
  {
   "cell_type": "code",
   "execution_count": 2,
   "id": "824b00f0",
   "metadata": {},
   "outputs": [
    {
     "name": "stdout",
     "output_type": "stream",
     "text": [
      "<class 'pandas.core.frame.DataFrame'>\n",
      "RangeIndex: 200 entries, 0 to 199\n",
      "Data columns (total 7 columns):\n",
      " #   Column         Non-Null Count  Dtype  \n",
      "---  ------         --------------  -----  \n",
      " 0   CustomerID     200 non-null    int64  \n",
      " 1   Region         200 non-null    object \n",
      " 2   SignupChannel  200 non-null    object \n",
      " 3   AnnualRevenue  190 non-null    float64\n",
      " 4   ServicePlan    200 non-null    object \n",
      " 5   Churned        200 non-null    int64  \n",
      " 6   TenureMonths   200 non-null    int64  \n",
      "dtypes: float64(1), int64(3), object(3)\n",
      "memory usage: 11.1+ KB\n",
      "None\n"
     ]
    }
   ],
   "source": [
    "#3. Check the data types of all columns\n",
    "\n",
    "print(df.info())"
   ]
  },
  {
   "cell_type": "code",
   "execution_count": 3,
   "id": "e105b968",
   "metadata": {},
   "outputs": [
    {
     "data": {
      "text/plain": [
       "CustomerID        0\n",
       "Region            0\n",
       "SignupChannel     0\n",
       "AnnualRevenue    10\n",
       "ServicePlan       0\n",
       "Churned           0\n",
       "TenureMonths      0\n",
       "dtype: int64"
      ]
     },
     "execution_count": 3,
     "metadata": {},
     "output_type": "execute_result"
    }
   ],
   "source": [
    "#4. Count how many missing values there are per column\n",
    "\n",
    "df.isnull().sum()"
   ]
  },
  {
   "cell_type": "code",
   "execution_count": 4,
   "id": "2e7cdcd6",
   "metadata": {},
   "outputs": [
    {
     "data": {
      "text/html": [
       "<div>\n",
       "<style scoped>\n",
       "    .dataframe tbody tr th:only-of-type {\n",
       "        vertical-align: middle;\n",
       "    }\n",
       "\n",
       "    .dataframe tbody tr th {\n",
       "        vertical-align: top;\n",
       "    }\n",
       "\n",
       "    .dataframe thead th {\n",
       "        text-align: right;\n",
       "    }\n",
       "</style>\n",
       "<table border=\"1\" class=\"dataframe\">\n",
       "  <thead>\n",
       "    <tr style=\"text-align: right;\">\n",
       "      <th></th>\n",
       "      <th>CustomerID</th>\n",
       "      <th>AnnualRevenue</th>\n",
       "      <th>Churned</th>\n",
       "      <th>TenureMonths</th>\n",
       "    </tr>\n",
       "  </thead>\n",
       "  <tbody>\n",
       "    <tr>\n",
       "      <th>count</th>\n",
       "      <td>200.000000</td>\n",
       "      <td>190.000000</td>\n",
       "      <td>200.000000</td>\n",
       "      <td>200.000000</td>\n",
       "    </tr>\n",
       "    <tr>\n",
       "      <th>mean</th>\n",
       "      <td>1100.500000</td>\n",
       "      <td>86324.038105</td>\n",
       "      <td>0.235000</td>\n",
       "      <td>24.920000</td>\n",
       "    </tr>\n",
       "    <tr>\n",
       "      <th>std</th>\n",
       "      <td>57.879185</td>\n",
       "      <td>29080.250565</td>\n",
       "      <td>0.425063</td>\n",
       "      <td>13.757542</td>\n",
       "    </tr>\n",
       "    <tr>\n",
       "      <th>min</th>\n",
       "      <td>1001.000000</td>\n",
       "      <td>-12238.020000</td>\n",
       "      <td>0.000000</td>\n",
       "      <td>1.000000</td>\n",
       "    </tr>\n",
       "    <tr>\n",
       "      <th>25%</th>\n",
       "      <td>1050.750000</td>\n",
       "      <td>64620.732500</td>\n",
       "      <td>0.000000</td>\n",
       "      <td>13.500000</td>\n",
       "    </tr>\n",
       "    <tr>\n",
       "      <th>50%</th>\n",
       "      <td>1100.500000</td>\n",
       "      <td>87365.180000</td>\n",
       "      <td>0.000000</td>\n",
       "      <td>25.500000</td>\n",
       "    </tr>\n",
       "    <tr>\n",
       "      <th>75%</th>\n",
       "      <td>1150.250000</td>\n",
       "      <td>104657.892500</td>\n",
       "      <td>0.000000</td>\n",
       "      <td>36.000000</td>\n",
       "    </tr>\n",
       "    <tr>\n",
       "      <th>max</th>\n",
       "      <td>1200.000000</td>\n",
       "      <td>200581.940000</td>\n",
       "      <td>1.000000</td>\n",
       "      <td>47.000000</td>\n",
       "    </tr>\n",
       "  </tbody>\n",
       "</table>\n",
       "</div>"
      ],
      "text/plain": [
       "        CustomerID  AnnualRevenue     Churned  TenureMonths\n",
       "count   200.000000     190.000000  200.000000    200.000000\n",
       "mean   1100.500000   86324.038105    0.235000     24.920000\n",
       "std      57.879185   29080.250565    0.425063     13.757542\n",
       "min    1001.000000  -12238.020000    0.000000      1.000000\n",
       "25%    1050.750000   64620.732500    0.000000     13.500000\n",
       "50%    1100.500000   87365.180000    0.000000     25.500000\n",
       "75%    1150.250000  104657.892500    0.000000     36.000000\n",
       "max    1200.000000  200581.940000    1.000000     47.000000"
      ]
     },
     "execution_count": 4,
     "metadata": {},
     "output_type": "execute_result"
    }
   ],
   "source": [
    "# 5. Get a summary of the numeric columns (mean, std, min, max, etc.)\n",
    "\n",
    "df.describe()"
   ]
  },
  {
   "cell_type": "code",
   "execution_count": null,
   "id": "ddcf99b8",
   "metadata": {},
   "outputs": [
    {
     "data": {
      "text/plain": [
       "array(['South', 'West', 'Northeast', 'Midwest'], dtype=object)"
      ]
     },
     "execution_count": 7,
     "metadata": {},
     "output_type": "execute_result"
    }
   ],
   "source": [
    "## Univariate Analysis\n",
    "\n",
    "#6. What are the unique values in the `Region` column, and how many customers are in each?\n",
    "\n",
    "df[\"Region\"].unique()"
   ]
  },
  {
   "cell_type": "code",
   "execution_count": 8,
   "id": "ffcd82e4",
   "metadata": {},
   "outputs": [
    {
     "data": {
      "text/plain": [
       "Region\n",
       "South        54\n",
       "West         54\n",
       "Northeast    46\n",
       "Midwest      46\n",
       "Name: count, dtype: int64"
      ]
     },
     "execution_count": 8,
     "metadata": {},
     "output_type": "execute_result"
    }
   ],
   "source": [
    "df[\"Region\"].value_counts()"
   ]
  },
  {
   "cell_type": "code",
   "execution_count": 9,
   "id": "20472c3b",
   "metadata": {},
   "outputs": [
    {
     "data": {
      "text/plain": [
       "Region\n",
       "Midwest      46\n",
       "Northeast    46\n",
       "South        54\n",
       "West         54\n",
       "Name: CustomerID, dtype: int64"
      ]
     },
     "execution_count": 9,
     "metadata": {},
     "output_type": "execute_result"
    }
   ],
   "source": [
    "df.groupby(\"Region\")[\"CustomerID\"].nunique()"
   ]
  },
  {
   "cell_type": "code",
   "execution_count": 10,
   "id": "6670fed2",
   "metadata": {},
   "outputs": [
    {
     "data": {
      "text/plain": [
       "ServicePlan\n",
       "Standard    93\n",
       "Basic       63\n",
       "Premium     44\n",
       "Name: count, dtype: int64"
      ]
     },
     "execution_count": 10,
     "metadata": {},
     "output_type": "execute_result"
    }
   ],
   "source": [
    "#7. What is the distribution of `ServicePlan`?\n",
    "\n",
    "df[\"ServicePlan\"].value_counts()"
   ]
  },
  {
   "cell_type": "code",
   "execution_count": 11,
   "id": "de877b9c",
   "metadata": {},
   "outputs": [
    {
     "data": {
      "text/plain": [
       "ServicePlan\n",
       "Standard    0.465\n",
       "Basic       0.315\n",
       "Premium     0.220\n",
       "Name: proportion, dtype: float64"
      ]
     },
     "execution_count": 11,
     "metadata": {},
     "output_type": "execute_result"
    }
   ],
   "source": [
    "df[\"ServicePlan\"].value_counts(normalize=True)"
   ]
  },
  {
   "cell_type": "code",
   "execution_count": 12,
   "id": "ebee4360",
   "metadata": {},
   "outputs": [
    {
     "data": {
      "text/plain": [
       "Churned\n",
       "0    0.765\n",
       "1    0.235\n",
       "Name: proportion, dtype: float64"
      ]
     },
     "execution_count": 12,
     "metadata": {},
     "output_type": "execute_result"
    }
   ],
   "source": [
    "#8. Calculate the churn rate (% of customers with Churned = 1)\n",
    "\n",
    "df[\"Churned\"].value_counts(normalize=True)"
   ]
  },
  {
   "cell_type": "code",
   "execution_count": 13,
   "id": "3401d319",
   "metadata": {},
   "outputs": [
    {
     "data": {
      "text/plain": [
       "<Axes: >"
      ]
     },
     "execution_count": 13,
     "metadata": {},
     "output_type": "execute_result"
    },
    {
     "data": {
      "image/png": "[encoded data removed]",
      "text/plain": [
       "<Figure size 640x480 with 1 Axes>"
      ]
     },
     "metadata": {},
     "output_type": "display_data"
    }
   ],
   "source": [
    "#9. Plot a histogram of AnnualRevenue\n",
    "\n",
    "df[\"AnnualRevenue\"].hist()"
   ]
  },
  {
   "cell_type": "code",
   "execution_count": 16,
   "id": "64f780dd",
   "metadata": {},
   "outputs": [
    {
     "data": {
      "image/png": "[encoded data removed]",
      "text/plain": [
       "<Figure size 640x480 with 1 Axes>"
      ]
     },
     "metadata": {},
     "output_type": "display_data"
    }
   ],
   "source": [
    "import matplotlib.pyplot as plt\n",
    "\n",
    "df[\"AnnualRevenue\"].hist(bins=30, edgecolor='black')\n",
    "plt.title(\"Distribution of Annual Revenue\")\n",
    "plt.xlabel(\"Annual Revenue\")\n",
    "plt.ylabel(\"Frequency\")\n",
    "plt.grid(False)\n",
    "plt.show()"
   ]
  },
  {
   "cell_type": "code",
   "execution_count": 17,
   "id": "9127541b",
   "metadata": {},
   "outputs": [
    {
     "data": {
      "text/plain": [
       "Region\n",
       "Midwest      84393.023182\n",
       "Northeast    89058.486512\n",
       "South        86964.835660\n",
       "West         84992.460200\n",
       "Name: AnnualRevenue, dtype: float64"
      ]
     },
     "execution_count": 17,
     "metadata": {},
     "output_type": "execute_result"
    }
   ],
   "source": [
    "## Bivariate Analysis\n",
    "\n",
    "#10. What is the average AnnualRevenue by Region?\n",
    "\n",
    "df.groupby(\"Region\")[\"AnnualRevenue\"].mean()"
   ]
  },
  {
   "cell_type": "code",
   "execution_count": 18,
   "id": "f8bd7b27",
   "metadata": {},
   "outputs": [
    {
     "data": {
      "text/html": [
       "<div>\n",
       "<style scoped>\n",
       "    .dataframe tbody tr th:only-of-type {\n",
       "        vertical-align: middle;\n",
       "    }\n",
       "\n",
       "    .dataframe tbody tr th {\n",
       "        vertical-align: top;\n",
       "    }\n",
       "\n",
       "    .dataframe thead th {\n",
       "        text-align: right;\n",
       "    }\n",
       "</style>\n",
       "<table border=\"1\" class=\"dataframe\">\n",
       "  <thead>\n",
       "    <tr style=\"text-align: right;\">\n",
       "      <th></th>\n",
       "      <th>count</th>\n",
       "      <th>mean</th>\n",
       "      <th>std</th>\n",
       "      <th>min</th>\n",
       "      <th>25%</th>\n",
       "      <th>50%</th>\n",
       "      <th>75%</th>\n",
       "      <th>max</th>\n",
       "    </tr>\n",
       "    <tr>\n",
       "      <th>Churned</th>\n",
       "      <th></th>\n",
       "      <th></th>\n",
       "      <th></th>\n",
       "      <th></th>\n",
       "      <th></th>\n",
       "      <th></th>\n",
       "      <th></th>\n",
       "      <th></th>\n",
       "    </tr>\n",
       "  </thead>\n",
       "  <tbody>\n",
       "    <tr>\n",
       "      <th>0</th>\n",
       "      <td>153.0</td>\n",
       "      <td>26.300654</td>\n",
       "      <td>13.355506</td>\n",
       "      <td>1.0</td>\n",
       "      <td>17.0</td>\n",
       "      <td>28.0</td>\n",
       "      <td>37.0</td>\n",
       "      <td>47.0</td>\n",
       "    </tr>\n",
       "    <tr>\n",
       "      <th>1</th>\n",
       "      <td>47.0</td>\n",
       "      <td>20.425532</td>\n",
       "      <td>14.227568</td>\n",
       "      <td>1.0</td>\n",
       "      <td>9.0</td>\n",
       "      <td>19.0</td>\n",
       "      <td>30.0</td>\n",
       "      <td>47.0</td>\n",
       "    </tr>\n",
       "  </tbody>\n",
       "</table>\n",
       "</div>"
      ],
      "text/plain": [
       "         count       mean        std  min   25%   50%   75%   max\n",
       "Churned                                                          \n",
       "0        153.0  26.300654  13.355506  1.0  17.0  28.0  37.0  47.0\n",
       "1         47.0  20.425532  14.227568  1.0   9.0  19.0  30.0  47.0"
      ]
     },
     "execution_count": 18,
     "metadata": {},
     "output_type": "execute_result"
    }
   ],
   "source": [
    "#11. Compare TenureMonths for churned vs. non-churned customers\n",
    "\n",
    "df.groupby(\"Churned\")[\"TenureMonths\"].describe()"
   ]
  },
  {
   "cell_type": "code",
   "execution_count": null,
   "id": "8dc06e13",
   "metadata": {},
   "outputs": [
    {
     "data": {
      "text/plain": [
       "ServicePlan\n",
       "Basic       83909.114426\n",
       "Premium     84759.713636\n",
       "Standard    88866.868941\n",
       "Name: AnnualRevenue, dtype: float64"
      ]
     },
     "execution_count": 19,
     "metadata": {},
     "output_type": "execute_result"
    }
   ],
   "source": [
    "#12. Does average AnnualRevenue differ across ServicePlan?\n",
    "\n",
    "# Answer based on below is yes!\n",
    "\n",
    "df.groupby(\"ServicePlan\")[\"AnnualRevenue\"].mean()"
   ]
  },
  {
   "cell_type": "code",
   "execution_count": 20,
   "id": "802409d5",
   "metadata": {},
   "outputs": [],
   "source": [
    "## Advanced\n",
    "\n",
    "#13. Create a new column: RevenuePerMonth = AnnualRevenue / TenureMonths\n",
    "\n",
    "df[\"RevenuePerMonth\"] = df[\"AnnualRevenue\"] / df[\"TenureMonths\"]"
   ]
  },
  {
   "cell_type": "code",
   "execution_count": 23,
   "id": "b8f505fb",
   "metadata": {},
   "outputs": [],
   "source": [
    "#14. Fill missing AnnualRevenue with the mean value for their region\n",
    "\n",
    "df[\"AnnualRevenue\"] = df[\"AnnualRevenue\"].fillna(df.groupby(\"Region\")[\"AnnualRevenue\"].transform(\"mean\"))"
   ]
  },
  {
   "cell_type": "code",
   "execution_count": 24,
   "id": "d5fb5440",
   "metadata": {},
   "outputs": [
    {
     "data": {
      "text/html": [
       "<div>\n",
       "<style scoped>\n",
       "    .dataframe tbody tr th:only-of-type {\n",
       "        vertical-align: middle;\n",
       "    }\n",
       "\n",
       "    .dataframe tbody tr th {\n",
       "        vertical-align: top;\n",
       "    }\n",
       "\n",
       "    .dataframe thead th {\n",
       "        text-align: right;\n",
       "    }\n",
       "</style>\n",
       "<table border=\"1\" class=\"dataframe\">\n",
       "  <thead>\n",
       "    <tr style=\"text-align: right;\">\n",
       "      <th></th>\n",
       "      <th>AnnualRevenue</th>\n",
       "      <th>TenureMonths</th>\n",
       "      <th>Churned</th>\n",
       "    </tr>\n",
       "  </thead>\n",
       "  <tbody>\n",
       "    <tr>\n",
       "      <th>AnnualRevenue</th>\n",
       "      <td>1.000000</td>\n",
       "      <td>0.020459</td>\n",
       "      <td>0.028918</td>\n",
       "    </tr>\n",
       "    <tr>\n",
       "      <th>TenureMonths</th>\n",
       "      <td>0.020459</td>\n",
       "      <td>1.000000</td>\n",
       "      <td>-0.181522</td>\n",
       "    </tr>\n",
       "    <tr>\n",
       "      <th>Churned</th>\n",
       "      <td>0.028918</td>\n",
       "      <td>-0.181522</td>\n",
       "      <td>1.000000</td>\n",
       "    </tr>\n",
       "  </tbody>\n",
       "</table>\n",
       "</div>"
      ],
      "text/plain": [
       "               AnnualRevenue  TenureMonths   Churned\n",
       "AnnualRevenue       1.000000      0.020459  0.028918\n",
       "TenureMonths        0.020459      1.000000 -0.181522\n",
       "Churned             0.028918     -0.181522  1.000000"
      ]
     },
     "execution_count": 24,
     "metadata": {},
     "output_type": "execute_result"
    }
   ],
   "source": [
    "#15. Find the correlation between AnnualRevenue, TenureMonths, and Churned\n",
    "\n",
    "df[[\"AnnualRevenue\", \"TenureMonths\", \"Churned\"]].corr()"
   ]
  },
  {
   "cell_type": "code",
   "execution_count": 26,
   "id": "bf44a5e7",
   "metadata": {},
   "outputs": [
    {
     "data": {
      "image/png": "[encoded data removed]",
      "text/plain": [
       "<Figure size 640x480 with 2 Axes>"
      ]
     },
     "metadata": {},
     "output_type": "display_data"
    }
   ],
   "source": [
    "import seaborn as sns\n",
    "\n",
    "corr = df[[\"AnnualRevenue\", \"TenureMonths\", \"Churned\"]].corr()\n",
    "\n",
    "sns.heatmap(corr, annot=True, cmap=\"coolwarm\", center=0)\n",
    "plt.title(\"Correlation Matrix\")\n",
    "plt.show()"
   ]
  }
 ],
 "metadata": {
  "kernelspec": {
   "display_name": "workenv",
   "language": "python",
   "name": "python3"
  },
  "language_info": {
   "codemirror_mode": {
    "name": "ipython",
    "version": 3
   },
   "file_extension": ".py",
   "mimetype": "text/x-python",
   "name": "python",
   "nbconvert_exporter": "python",
   "pygments_lexer": "ipython3",
   "version": "3.12.7"
  }
 },
 "nbformat": 4,
 "nbformat_minor": 5
}
